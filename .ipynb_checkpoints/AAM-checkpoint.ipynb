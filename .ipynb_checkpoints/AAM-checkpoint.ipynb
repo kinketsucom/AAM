{
 "cells": [
  {
   "cell_type": "markdown",
   "metadata": {},
   "source": [
    "# ライブラリ準備"
   ]
  },
  {
   "cell_type": "code",
   "execution_count": 54,
   "metadata": {},
   "outputs": [
    {
     "data": {
      "text/plain": [
       "True"
      ]
     },
     "execution_count": 54,
     "metadata": {},
     "output_type": "execute_result"
    }
   ],
   "source": [
    "#coding:utf-8\n",
    "import pylab\n",
    "from PIL import Image,ImageDraw\n",
    "import matplotlib.pyplot as plt\n",
    "import numpy as np\n",
    "import cv2\n",
    "import math\n",
    "import copy\n",
    "\n",
    "#画像の読み込み\n",
    "test = cv2.imread(\"./Img/input.jpg\", cv2.IMREAD_COLOR)#BGRなので気をつける\n",
    "gray_test = cv2.imread(\"./Img/input.jpg\",cv2.IMREAD_GRAYSCALE)\n",
    "width = test.shape[1]\n",
    "height = test.shape[0] \n",
    "\n",
    "#画像の書き出し\n",
    "cv2.imwrite('./Img/test.jpg', test)\n",
    "cv2.imwrite('./Img/gray_test.jpg',gray_test)"
   ]
  },
  {
   "cell_type": "markdown",
   "metadata": {},
   "source": [
    "# テスト形状取得"
   ]
  },
  {
   "cell_type": "code",
   "execution_count": 113,
   "metadata": {},
   "outputs": [
    {
     "data": {
      "text/plain": [
       "True"
      ]
     },
     "execution_count": 113,
     "metadata": {},
     "output_type": "execute_result"
    }
   ],
   "source": [
    "#####学習用テスト形状#####\n",
    "shape = np.zeros((24,2))\n",
    "bef_shape = np.zeros((24,2))\n",
    "shape[:,0] = [12,97,24,62,56,42,96,30,125,34,151,48,178,94,174,137,136,158,100,165,62,158,32,136]\n",
    "shape[:,1] = [49,173,27,143,24,105,46,57,78,31,114,23,150,36,175,73,172,113,150,148,120,172,85,185]\n",
    "\n",
    "# shape = np.zeros((4,2))\n",
    "# shape[:,0] = [1,1,1,2]\n",
    "# shape[:,1] = [3,3,4,4]\n",
    "# bef_shape = np.zeros((4,2))\n",
    "# bef_shape[:,0]\n",
    "gray_shape_arr =list()\n",
    "\n",
    "black = np.zeros((200,200))\n",
    "N = int(len(shape[:,0])/2)\n",
    "for i in range(0,int(N)):\n",
    "    x = int(shape[2*i][0])\n",
    "    y = int(shape[2*i+1][0])\n",
    "    x2 = int(shape[(2*(i+1))%(2*N)][0])\n",
    "    y2 = int(shape[(2*(i+1)+1)%(2*N)][0])\n",
    "    black = cv2.line(black, (y,x), (y2,x2), (255, 255, 255), 2)\n",
    "cv2.imwrite('./Img/black_shape0.jpg' ,black)\n",
    "\n",
    "gray_shape0_img = cv2.imread(\"./Img/Samples/shape0.jpg\",cv2.IMREAD_GRAYSCALE)\n",
    "gray_shape_arr.append(gray_shape0_img)\n",
    "cv2.imwrite('./Img/gray_shape0.jpg' ,gray_shape_arr[0])\n",
    "\n",
    "black = np.zeros((200,200))\n",
    "N = int(len(shape[:,1])/2)\n",
    "for i in range(0,int(N)):\n",
    "    x = int(shape[2*i][1])\n",
    "    y = int(shape[2*i+1][1])\n",
    "    x2 = int(shape[(2*i+2)%(2*N)][1])\n",
    "    y2 = int(shape[(2*i+3)%(2*N)][1])\n",
    "    black = cv2.line(black, (y,x), (y2,x2), (255, 255, 255), 2)\n",
    "cv2.imwrite('./Img/black_shape1.jpg' ,black)\n",
    "\n",
    "gray_shape1_img = cv2.imread(\"./Img/Samples/shape1.jpg\",cv2.IMREAD_GRAYSCALE)\n",
    "gray_shape_arr.append(gray_shape1_img)\n",
    "cv2.imwrite('./Img/gray_shape1.jpg' ,gray_shape_arr[1])\n",
    "\n",
    "#####平均形状取得######\n",
    "black = np.zeros((200,200))\n",
    "shape_ave = (shape[:,0]+shape[:,1])/2 #平均形状\n",
    "for i in range(0,int(N)):\n",
    "    x = int(shape_ave[2*i])\n",
    "    y = int(shape_ave[2*i+1])\n",
    "    x2 = int(shape_ave[(2*(i+1))%(2*N)])\n",
    "    y2 = int(shape_ave[(2*(i+1)+1)%(2*N)])\n",
    "    black = cv2.line(black, (y,x), (y2,x2), (255, 255, 255), 2)\n",
    "cv2.imwrite('./Img/black_shape_ave.jpg' ,black)\n",
    "\n",
    "\n"
   ]
  },
  {
   "cell_type": "markdown",
   "metadata": {},
   "source": [
    "# 外観の正規化"
   ]
  },
  {
   "cell_type": "code",
   "execution_count": 75,
   "metadata": {},
   "outputs": [
    {
     "name": "stdout",
     "output_type": "stream",
     "text": [
      "拡大率s: 0.92588550143 ,回転角θ: -0.432142521814\n",
      "拡大率s: 0.892325607835 ,回転角θ: 0.415388246076\n"
     ]
    }
   ],
   "source": [
    "gray_rot_arr = list()#正規化された外観\n",
    "\n",
    "for j in range(0,len(gray_shape_arr)):\n",
    "    N = int(len(shape[:,j])/2)\n",
    "    #平均形状の重心\n",
    "    g_ave = np.array([0,0])\n",
    "    g_ave = np.sum(shape_ave[::2])/N,np.sum(g_ave[1::2])/N\n",
    "    #形状の重心\n",
    "    g_shape = np.array([0,0])\n",
    "    g_shape = np.sum(shape[::2,j])/N,np.sum(shape[1::2,j])/N\n",
    "    shape[::2,j] -= g_shape[0]\n",
    "    shape[1::2,j] -= g_shape[1]\n",
    "    #パラメータ計算\n",
    "    param_a = np.dot(shape[:,j],shape_ave[:])/np.dot(shape[:,j],shape[:,j])\n",
    "    param_b = 0\n",
    "    loop = int(shape[:,j].shape[0]/2)\n",
    "    for i in range(0,loop):\n",
    "        x1_ = shape[2*i,j]\n",
    "        y1_ = shape[2*i+1,j]\n",
    "        x2_ = shape_ave[2*i]\n",
    "        y2_ = shape_ave[2*i+1]\n",
    "        param_b += (x1_*y2_-x2_*y1_ )\n",
    "    param_b /= np.dot(shape[:,j],shape[:,j])\n",
    "    param_s = (param_a**2+param_b**2)**(1/2)\n",
    "    param_theta = np.arctan2(param_b,param_a)\n",
    "    print(\"拡大率s:\",param_s,\",回転角θ:\",param_theta)\n",
    "    # 回転変換行列の算出\n",
    "    rotation_matrix = cv2.getRotationMatrix2D((100,100), param_theta*180/math.pi ,param_s)#現在(200,200)のみにつくってる\n",
    "    size = tuple((200,200))\n",
    "    img_rot = cv2.warpAffine(gray_shape_arr[j], rotation_matrix, size, flags=cv2.INTER_CUBIC)\n",
    "    gray_rot_arr.append(img_rot)\n",
    "    cv2.imwrite(\"./Img/gray_shape\"+str(j)+\"_rot.jpg\" ,img_rot)"
   ]
  },
  {
   "cell_type": "markdown",
   "metadata": {},
   "source": [
    "# 平均外観の取得"
   ]
  },
  {
   "cell_type": "code",
   "execution_count": 115,
   "metadata": {},
   "outputs": [
    {
     "data": {
      "text/plain": [
       "True"
      ]
     },
     "execution_count": 115,
     "metadata": {},
     "output_type": "execute_result"
    }
   ],
   "source": [
    "appearance_ave = np.zeros((200,200))\n",
    "for val in gray_rot_arr:\n",
    "    appearance_ave += val\n",
    "appearance_ave /=  len(gray_rot_arr)\n",
    "cv2.imwrite(\"./Img/appearance_ave.jpg\" ,appearance_ave)\n"
   ]
  },
  {
   "cell_type": "markdown",
   "metadata": {},
   "source": [
    "# 主成分分析\n",
    "http://www.cvlab.cs.tsukuba.ac.jp/index.php?plugin=attach&pcmd=open&file=imgrec2016-handout-5.pdf&refer=2016%C7%AF%C5%D9%20%B2%E8%C1%FC%C7%A7%BC%B1%B9%A9%B3%D8"
   ]
  },
  {
   "cell_type": "code",
   "execution_count": 140,
   "metadata": {},
   "outputs": [
    {
     "data": {
      "text/plain": [
       "True"
      ]
     },
     "execution_count": 140,
     "metadata": {},
     "output_type": "execute_result"
    }
   ],
   "source": [
    "shape_sample_num  = shape.shape[1]\n",
    "\n",
    "S = np.zeros((2*N,2*N))\n",
    "for i in range(0,2*N):\n",
    "    for j in range(0,2*N):\n",
    "        for n in range(0,shape_sample_num):\n",
    "            S[i,j] += (shape[i][n]-shape_ave[i])*(shape[j][n]-shape_ave[j])\n",
    "S /= shape_sample_num-1\n",
    "\n",
    "#輝度値共分散行列\n",
    "A_mat = np.zeros((200,200))\n",
    "for i in range(0,200):\n",
    "    for j in range(0,200):\n",
    "        for n in range(0,shape_sample_num):\n",
    "            A_mat[i,j] += np.dot(gray_rot_arr[n][:][j]-appearance_ave[:][j],gray_rot_arr[n][i][:]-appearance_ave[i][:])\n",
    "A_mat /= shape_sample_num-1\n",
    "\n",
    "\n",
    "# ma = np.max(S)\n",
    "# S /= ma\n",
    "# S *= 255\n",
    "# cv2.imwrite('./Img/s.jpg' ,S)\n",
    "# ma = np.max(A_mat)\n",
    "# A_mat /= ma\n",
    "# A_mat *= 255\n",
    "# cv2.imwrite('./Img/a_mat.jpg' ,A_mat)"
   ]
  },
  {
   "cell_type": "code",
   "execution_count": 379,
   "metadata": {},
   "outputs": [
    {
     "name": "stdout",
     "output_type": "stream",
     "text": [
      "固有値：[ -4.50619187e-16  -6.26676482e-17   2.06759907e-15   1.05000000e+01]\n",
      "固有ベクトル：[[-0.76499252 -0.30646414  0.36109554  0.43643578]\n",
      " [-0.17812879  0.02753671 -0.88149627  0.43643578]\n",
      " [ 0.61873334 -0.39202786  0.18684697  0.65465367]\n",
      " [ 0.01502131  0.86696922  0.24013027  0.43643578]]\n",
      "[ -4.50619187e-16  -6.26676482e-17   2.06759907e-15   1.05000000e+01]\n"
     ]
    }
   ],
   "source": [
    "la, v = np.linalg.eigh(S)\n",
    "print(u\"固有値：\"+str(la))\n",
    "print(u\"固有ベクトル：\"+str(v))\n",
    "# la[la<10**(-20)] = 0 #小さすぎる値は0 として近似\n",
    "print(la) #最終的な固有値"
   ]
  },
  {
   "cell_type": "code",
   "execution_count": 380,
   "metadata": {},
   "outputs": [
    {
     "name": "stdout",
     "output_type": "stream",
     "text": [
      "[  1.05000000e+01   2.06759907e-15  -6.26676482e-17  -4.50619187e-16]\n",
      "[[ 0.43643578  0.36109554 -0.30646414 -0.76499252]\n",
      " [ 0.43643578 -0.88149627  0.02753671 -0.17812879]\n",
      " [ 0.65465367  0.18684697 -0.39202786  0.61873334]\n",
      " [ 0.43643578  0.24013027  0.86696922  0.01502131]]\n"
     ]
    }
   ],
   "source": [
    "eigen_id = np.argsort(la)[::-1]\n",
    "la = la[eigen_id]\n",
    "v = v[:,eigen_id]\n",
    "print(la)\n",
    "print(v)"
   ]
  },
  {
   "cell_type": "code",
   "execution_count": 381,
   "metadata": {},
   "outputs": [
    {
     "name": "stdout",
     "output_type": "stream",
     "text": [
      "1\n"
     ]
    }
   ],
   "source": [
    "la_sum = np.sum(la)\n",
    "need_la = 0 #必要固有値の和\n",
    "need_la_num = 1 #必要固有値数-1\n",
    "for val in la:\n",
    "    need_la += val\n",
    "    if(la_sum*0.98 < need_la):\n",
    "        break\n",
    "    else:\n",
    "        need_la_num +=1\n",
    "print(need_la_num)"
   ]
  },
  {
   "cell_type": "code",
   "execution_count": 382,
   "metadata": {},
   "outputs": [
    {
     "name": "stdout",
     "output_type": "stream",
     "text": [
      "[[ 0.43643578]\n",
      " [ 0.43643578]\n",
      " [ 0.65465367]\n",
      " [ 0.43643578]]\n",
      "[ 10.5]\n"
     ]
    }
   ],
   "source": [
    "P = np.empty((N*2,need_la_num))\n",
    "for j in range(0,need_la_num):\n",
    "    P[:,j] = v[:,j]\n",
    "b = np.empty((need_la_num))\n",
    "print(P)\n",
    "print(b)"
   ]
  },
  {
   "cell_type": "code",
   "execution_count": 383,
   "metadata": {},
   "outputs": [
    {
     "name": "stdout",
     "output_type": "stream",
     "text": [
      "4 4 6 5\n",
      "6 5 4 4\n"
     ]
    },
    {
     "data": {
      "text/plain": [
       "True"
      ]
     },
     "execution_count": 383,
     "metadata": {},
     "output_type": "execute_result"
    }
   ],
   "source": [
    "param=2#(±3までらしいが、、、)\n",
    "for i in range(0,len(b)):\n",
    "    b[i] = la[i]**(1/2)*param\n",
    "# print(P.shape,b.shape,result.shape)\n",
    "# print(P)\n",
    "# print(b)\n",
    "result = shape_ave+np.dot(P,b)\n",
    "\n",
    "# print(result)\n",
    "# 輪郭線のテスト\n",
    "black_result = np.zeros((200,200))\n",
    "N = int(len(shape[:,0])/2)\n",
    "for i in range(0,int(N)):\n",
    "    x = int(result[2*i])\n",
    "    y = int(result[2*i+1])\n",
    "    x2 = int(result[(2*(i+1))%(2*N)])\n",
    "    y2 = int(result[(2*(i+1)+1)%(2*N)])\n",
    "    print(x,y,x2,y2)\n",
    "    black_result = cv2.line(black_result, (y,x), (y2,x2), (255, 255, 255), 2)\n",
    "cv2.imwrite('./Img/black_result.jpg' ,black_result)"
   ]
  },
  {
   "cell_type": "code",
   "execution_count": null,
   "metadata": {},
   "outputs": [],
   "source": []
  },
  {
   "cell_type": "code",
   "execution_count": 26,
   "metadata": {},
   "outputs": [
    {
     "name": "stdout",
     "output_type": "stream",
     "text": [
      "移動前:\n",
      " [[ 1.  3.]\n",
      " [ 1.  3.]\n",
      " [ 1.  4.]\n",
      " [ 2.  4.]]\n",
      "(3.5, 3.5)\n",
      "移動後:\n",
      " [[ 0.  -0.5]\n",
      " [-0.5 -0.5]\n",
      " [ 0.   0.5]\n",
      " [ 0.5  0.5]]\n",
      "s: 1.41421356237 θ: -0.785398163397\n"
     ]
    },
    {
     "ename": "NameError",
     "evalue": "name 'center' is not defined",
     "output_type": "error",
     "traceback": [
      "\u001b[0;31m---------------------------------------------------------------------------\u001b[0m",
      "\u001b[0;31mNameError\u001b[0m                                 Traceback (most recent call last)",
      "\u001b[0;32m<ipython-input-26-13c5eace623c>\u001b[0m in \u001b[0;36m<module>\u001b[0;34m()\u001b[0m\n\u001b[1;32m     33\u001b[0m \u001b[0mtheta_\u001b[0m \u001b[0;34m=\u001b[0m \u001b[0mnp\u001b[0m\u001b[0;34m.\u001b[0m\u001b[0marctan2\u001b[0m\u001b[0;34m(\u001b[0m\u001b[0mb_\u001b[0m\u001b[0;34m,\u001b[0m\u001b[0ma_\u001b[0m\u001b[0;34m)\u001b[0m\u001b[0;34m\u001b[0m\u001b[0m\n\u001b[1;32m     34\u001b[0m \u001b[0mprint\u001b[0m\u001b[0;34m(\u001b[0m\u001b[0;34m\"s:\"\u001b[0m\u001b[0;34m,\u001b[0m\u001b[0ms_\u001b[0m\u001b[0;34m,\u001b[0m\u001b[0;34m\"θ:\"\u001b[0m\u001b[0;34m,\u001b[0m\u001b[0mtheta_\u001b[0m\u001b[0;34m)\u001b[0m\u001b[0;34m\u001b[0m\u001b[0m\n\u001b[0;32m---> 35\u001b[0;31m \u001b[0mrotation_matrix\u001b[0m \u001b[0;34m=\u001b[0m \u001b[0mcv2\u001b[0m\u001b[0;34m.\u001b[0m\u001b[0mgetRotationMatrix2D\u001b[0m\u001b[0;34m(\u001b[0m\u001b[0mcenter\u001b[0m\u001b[0;34m,\u001b[0m \u001b[0mangle\u001b[0m\u001b[0;34m,\u001b[0m \u001b[0mscale\u001b[0m\u001b[0;34m)\u001b[0m\u001b[0;34m\u001b[0m\u001b[0m\n\u001b[0m",
      "\u001b[0;31mNameError\u001b[0m: name 'center' is not defined"
     ]
    }
   ],
   "source": [
    "#test\n",
    "hoge= np.zeros((4,2))\n",
    "fuga_  = np.zeros((4,2))\n",
    "fuga_[:,0] =  [1,1,1,2]\n",
    "fuga_[:,1] = [3,3,4,4]\n",
    "hoge[:,0] = copy.deepcopy(fuga_[:,0])\n",
    "hoge[:,1] = copy.deepcopy(fuga_[:,1])\n",
    "print(\"移動前:\\n\",hoge)\n",
    "#重心とる\n",
    "N = int(len(hoge[:,0])/2)\n",
    "g1_ = np.array([0,0])\n",
    "g1_ = np.sum(hoge[::2,0])/N,np.sum(hoge[1::2,0])/N\n",
    "g2_ = np.array([0,0])\n",
    "g2_ = np.sum(hoge[::2,1])/N,np.sum(hoge[1::2,1])/N\n",
    "hoge[::2,0] -= g1_[0]\n",
    "hoge[1::2,0] -= g1_[1]\n",
    "hoge[::2,1] -= g2_[0]\n",
    "hoge[1::2,1] -= g2_[1]\n",
    "print(g2_)\n",
    "print(\"移動後:\\n\",hoge)\n",
    "#パラメータ計算\n",
    "a_ = np.dot(hoge[:,0],hoge[:,1])/np.dot(hoge[:,0],hoge[:,0])\n",
    "b_ =0\n",
    "loop = int(hoge[:,0].shape[0]/2)\n",
    "for i in range(0,loop):\n",
    "    x1_ = hoge[2*i,0]\n",
    "    y1_ = hoge[2*i+1,0]\n",
    "    x2_ = hoge[2*i,1]\n",
    "    y2_ = hoge[2*i+1,1]\n",
    "    b_ += (x1_*y2_-x2_*y1_ )\n",
    "b_ /= np.dot(hoge[:,0],hoge[:,0])\n",
    "s_ = (a_**2+b_**2)**(1/2)\n",
    "theta_ = np.arctan2(b_,a_)\n",
    "print(\"s:\",s_,\"θ:\",theta_)\n"
   ]
  },
  {
   "cell_type": "code",
   "execution_count": 385,
   "metadata": {},
   "outputs": [],
   "source": [
    "sA_ =  np.zeros((2,2))\n",
    "sA_[:,0] = [s_*np.cos(theta_),-s_*np.sin(theta_)]\n",
    "sA_[:,1] = [s_*np.sin(theta_), s_*np.cos(theta_)]\n",
    "\n",
    "ans_ = [0,0,0,0]\n",
    "for i in range(0,loop):\n",
    "    aho = [hoge[2*i,0],hoge[2*i+1,0]]\n",
    "    ans_[2*i],ans_[2*i+1] = np.dot(aho,sA_) +g2_\n",
    "\n",
    "\n"
   ]
  },
  {
   "cell_type": "code",
   "execution_count": 386,
   "metadata": {},
   "outputs": [
    {
     "data": {
      "text/plain": [
       "([3.0, 3.0, 4.0, 4.0], array([ 3.,  3.,  4.,  4.]))"
      ]
     },
     "execution_count": 386,
     "metadata": {},
     "output_type": "execute_result"
    }
   ],
   "source": [
    "ans_,fuga_[:,1]"
   ]
  },
  {
   "cell_type": "code",
   "execution_count": null,
   "metadata": {},
   "outputs": [],
   "source": []
  },
  {
   "cell_type": "code",
   "execution_count": null,
   "metadata": {},
   "outputs": [],
   "source": []
  },
  {
   "cell_type": "code",
   "execution_count": null,
   "metadata": {},
   "outputs": [],
   "source": []
  },
  {
   "cell_type": "code",
   "execution_count": null,
   "metadata": {},
   "outputs": [],
   "source": []
  }
 ],
 "metadata": {
  "kernelspec": {
   "display_name": "Python 3",
   "language": "python",
   "name": "python3"
  },
  "language_info": {
   "codemirror_mode": {
    "name": "ipython",
    "version": 3
   },
   "file_extension": ".py",
   "mimetype": "text/x-python",
   "name": "python",
   "nbconvert_exporter": "python",
   "pygments_lexer": "ipython3",
   "version": "3.6.1"
  }
 },
 "nbformat": 4,
 "nbformat_minor": 2
}
