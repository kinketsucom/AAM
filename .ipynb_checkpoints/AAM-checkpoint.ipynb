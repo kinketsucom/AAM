{
 "cells": [
  {
   "cell_type": "markdown",
   "metadata": {},
   "source": [
    "# ライブラリ準備"
   ]
  },
  {
   "cell_type": "code",
   "execution_count": 31,
   "metadata": {},
   "outputs": [
    {
     "data": {
      "text/plain": [
       "True"
      ]
     },
     "execution_count": 31,
     "metadata": {},
     "output_type": "execute_result"
    }
   ],
   "source": [
    "#coding:utf-8\n",
    "import pylab\n",
    "from PIL import Image,ImageDraw\n",
    "import matplotlib.pyplot as plt\n",
    "import numpy as np\n",
    "import cv2\n",
    "import math\n",
    "import copy\n",
    "from sklearn.decomposition import PCA\n",
    "# from multiprocessing import Pool\n",
    "# import multiprocessing as multi\n",
    "from joblib import Parallel, delayed\n",
    "from time import time\n",
    "import scipy.linalg\n",
    "\n",
    "img_size=20\n",
    "#画像の読み込み\n",
    "test = cv2.imread(\"./Img/input.jpg\", cv2.IMREAD_COLOR)#BGRなので気をつける\n",
    "gray_test = cv2.imread(\"./Img/input.jpg\",cv2.IMREAD_GRAYSCALE)\n",
    "width = test.shape[1]\n",
    "height = test.shape[0] \n",
    "\n",
    "#画像の書き出し\n",
    "cv2.imwrite('./Img/test.jpg', test)\n",
    "cv2.imwrite('./Img/gray_test.jpg',gray_test)"
   ]
  },
  {
   "cell_type": "markdown",
   "metadata": {},
   "source": [
    "# テスト形状取得"
   ]
  },
  {
   "cell_type": "code",
   "execution_count": 32,
   "metadata": {},
   "outputs": [
    {
     "name": "stdout",
     "output_type": "stream",
     "text": [
      "[[  1.   5.]\n",
      " [ 10.  17.]\n",
      " [  2.   3.]\n",
      " [  6.  14.]\n",
      " [  6.   2.]\n",
      " [  4.  10.]\n",
      " [ 10.   5.]\n",
      " [  3.   6.]\n",
      " [ 12.   8.]\n",
      " [  3.   3.]\n",
      " [ 15.  11.]\n",
      " [  5.   2.]\n",
      " [ 18.  15.]\n",
      " [  9.   4.]\n",
      " [ 17.  18.]\n",
      " [ 14.   7.]\n",
      " [ 14.  17.]\n",
      " [ 16.  11.]\n",
      " [ 10.  15.]\n",
      " [ 16.  15.]\n",
      " [  6.  12.]\n",
      " [ 16.  17.]\n",
      " [  3.   8.]\n",
      " [ 14.  18.]]\n"
     ]
    },
    {
     "data": {
      "text/plain": [
       "True"
      ]
     },
     "execution_count": 32,
     "metadata": {},
     "output_type": "execute_result"
    }
   ],
   "source": [
    "#####学習用テスト形状#####\n",
    "shape = np.zeros((24,2))\n",
    "bef_shape = np.zeros((24,2))\n",
    "shape[:,0] = [12,97,24,62,56,42,96,30,125,34,151,48,178,94,174,137,136,158,100,165,62,158,32,136]\n",
    "shape[:,1] = [49,173,27,143,24,105,46,57,78,31,114,23,150,36,175,73,172,113,150,148,120,172,85,185]\n",
    "#####ここらへんは20x20のサイズに変更したもので、テストケースとして小さくしている###\n",
    "shape = shape/10\n",
    "shape = np.round(shape)\n",
    "print(shape)\n",
    "unchanged_shape = copy.deepcopy(shape)\n",
    "gray_shape_arr =list()\n",
    "\n",
    "black = np.zeros((img_size,img_size))\n",
    "N = int(len(shape[:,0])/2)\n",
    "for i in range(0,int(N)):\n",
    "    x = int(shape[2*i][0])\n",
    "    y = int(shape[2*i+1][0])\n",
    "    x2 = int(shape[(2*(i+1))%(2*N)][0])\n",
    "    y2 = int(shape[(2*(i+1)+1)%(2*N)][0])\n",
    "    black = cv2.line(black, (y,x), (y2,x2), (255, 255, 255), 1)\n",
    "cv2.imwrite('./Img/black_shape0.jpg' ,black)\n",
    "\n",
    "gray_shape0_img = cv2.imread(\"./Img/Samples/shape0.jpg\",cv2.IMREAD_GRAYSCALE)\n",
    "gray_shape_arr.append(gray_shape0_img)\n",
    "cv2.imwrite('./Img/gray_shape0.jpg' ,gray_shape_arr[0])\n",
    "\n",
    "black = np.zeros((img_size,img_size))\n",
    "N = int(len(shape[:,1])/2)\n",
    "for i in range(0,int(N)):\n",
    "    x = int(shape[2*i][1])\n",
    "    y = int(shape[2*i+1][1])\n",
    "    x2 = int(shape[(2*i+2)%(2*N)][1])\n",
    "    y2 = int(shape[(2*i+3)%(2*N)][1])\n",
    "    black = cv2.line(black, (y,x), (y2,x2), (255, 255, 255), 1)\n",
    "cv2.imwrite('./Img/black_shape1.jpg' ,black)\n",
    "\n",
    "gray_shape1_img = cv2.imread(\"./Img/Samples/shape1.jpg\",cv2.IMREAD_GRAYSCALE)\n",
    "gray_shape_arr.append(gray_shape1_img)\n",
    "cv2.imwrite('./Img/gray_shape1.jpg' ,gray_shape_arr[1])\n",
    "\n",
    "#####平均形状取得######\n",
    "black = np.zeros((img_size,img_size))\n",
    "shape_ave = (shape[:,0]+shape[:,1])/2 #平均形状\n",
    "for i in range(0,int(N)):\n",
    "    x = int(shape_ave[2*i])\n",
    "    y = int(shape_ave[2*i+1])\n",
    "    x2 = int(shape_ave[(2*(i+1))%(2*N)])\n",
    "    y2 = int(shape_ave[(2*(i+1)+1)%(2*N)])\n",
    "    black = cv2.line(black, (y,x), (y2,x2), (255, 255, 255), 1)\n",
    "cv2.imwrite('./Img/black_shape_ave.jpg' ,black)\n",
    "\n"
   ]
  },
  {
   "cell_type": "markdown",
   "metadata": {},
   "source": [
    "# 外観の正規化"
   ]
  },
  {
   "cell_type": "code",
   "execution_count": 33,
   "metadata": {},
   "outputs": [
    {
     "name": "stdout",
     "output_type": "stream",
     "text": [
      "拡大率s: 0.916888828299 ,回転角θ: -0.418701878127\n",
      "拡大率s: 0.904101229794 ,回転角θ: 0.412443631354\n"
     ]
    }
   ],
   "source": [
    "gray_rot_arr = list()#正規化された外観\n",
    "for j in range(0,len(gray_shape_arr)):\n",
    "    N = int(len(shape[:,j])/2)\n",
    "    #平均形状の重心\n",
    "    g_ave = np.array([0,0])\n",
    "    g_ave = np.sum(shape_ave[::2])/N,np.sum(g_ave[1::2])/N\n",
    "    #形状の重心\n",
    "    g_shape = np.array([0,0])\n",
    "    g_shape = np.sum(shape[::2,j])/N,np.sum(shape[1::2,j])/N\n",
    "    \n",
    "    shape[::2,j] -= g_shape[0]\n",
    "    shape[1::2,j] -= g_shape[1]\n",
    "    #パラメータ計算\n",
    "    param_a = np.dot(shape[:,j],shape_ave[:])/np.dot(shape[:,j],shape[:,j])\n",
    "    param_b = 0\n",
    "    loop = int(shape[:,j].shape[0]/2)\n",
    "    for i in range(0,loop):\n",
    "        x1_ = shape[2*i,j]\n",
    "        y1_ = shape[2*i+1,j]\n",
    "        x2_ = shape_ave[2*i]\n",
    "        y2_ = shape_ave[2*i+1]\n",
    "        param_b += (x1_*y2_-x2_*y1_ )\n",
    "    param_b /= np.dot(shape[:,j],shape[:,j])\n",
    "    param_s = (param_a**2+param_b**2)**(1/2)\n",
    "    param_theta = np.arctan2(param_b,param_a)\n",
    "    print(\"拡大率s:\",param_s,\",回転角θ:\",param_theta)\n",
    "    # 回転変換行列の算出\n",
    "    rotation_matrix = cv2.getRotationMatrix2D((img_size/2,img_size/2), param_theta*180/math.pi ,param_s)#現在(20,20)のみにつくってる\n",
    "    size = tuple((img_size,img_size))\n",
    "    img_rot = cv2.warpAffine(gray_shape_arr[j], rotation_matrix, size, flags=cv2.INTER_CUBIC)\n",
    "    gray_rot_arr.append(img_rot)\n",
    "    cv2.imwrite(\"./Img/gray_shape\"+str(j)+\"_rot.jpg\" ,img_rot)\n"
   ]
  },
  {
   "cell_type": "markdown",
   "metadata": {},
   "source": [
    "# 平均外観の取得"
   ]
  },
  {
   "cell_type": "code",
   "execution_count": 34,
   "metadata": {},
   "outputs": [
    {
     "data": {
      "text/plain": [
       "True"
      ]
     },
     "execution_count": 34,
     "metadata": {},
     "output_type": "execute_result"
    }
   ],
   "source": [
    "appearance_ave = np.zeros((img_size,img_size))\n",
    "for val in gray_rot_arr:\n",
    "    appearance_ave += val\n",
    "appearance_ave /=  len(gray_rot_arr)\n",
    "cv2.imwrite(\"./Img/appearance_ave.jpg\" ,appearance_ave)\n"
   ]
  },
  {
   "cell_type": "markdown",
   "metadata": {},
   "source": [
    "# 主成分分析\n",
    "http://www.cvlab.cs.tsukuba.ac.jp/index.php?plugin=attach&pcmd=open&file=imgrec2016-handout-5.pdf&refer=2016%C7%AF%C5%D9%20%B2%E8%C1%FC%C7%A7%BC%B1%B9%A9%B3%D8"
   ]
  },
  {
   "cell_type": "code",
   "execution_count": 47,
   "metadata": {},
   "outputs": [
    {
     "name": "stdout",
     "output_type": "stream",
     "text": [
      "S_mat covariance\n",
      "laとv\n",
      "(24,)\n"
     ]
    },
    {
     "ename": "ValueError",
     "evalue": "could not broadcast input array from shape (24) into shape (40)",
     "output_type": "error",
     "traceback": [
      "\u001b[0;31m--------------------------------------------------------------------------\u001b[0m",
      "\u001b[0;31mValueError\u001b[0m                               Traceback (most recent call last)",
      "\u001b[0;32m<ipython-input-47-d1df7a0ebfa1>\u001b[0m in \u001b[0;36m<module>\u001b[0;34m()\u001b[0m\n\u001b[1;32m     30\u001b[0m \u001b[0mS_P\u001b[0m \u001b[0;34m=\u001b[0m \u001b[0mnp\u001b[0m\u001b[0;34m.\u001b[0m\u001b[0mempty\u001b[0m\u001b[0;34m(\u001b[0m\u001b[0;34m(\u001b[0m\u001b[0mN\u001b[0m\u001b[0;34m*\u001b[0m\u001b[0;36m2\u001b[0m\u001b[0;34m,\u001b[0m\u001b[0mneed_la_num\u001b[0m\u001b[0;34m)\u001b[0m\u001b[0;34m)\u001b[0m\u001b[0;34m\u001b[0m\u001b[0m\n\u001b[1;32m     31\u001b[0m \u001b[0;32mfor\u001b[0m \u001b[0mj\u001b[0m \u001b[0;32min\u001b[0m \u001b[0mrange\u001b[0m\u001b[0;34m(\u001b[0m\u001b[0;36m0\u001b[0m\u001b[0;34m,\u001b[0m\u001b[0mneed_la_num\u001b[0m\u001b[0;34m)\u001b[0m\u001b[0;34m:\u001b[0m\u001b[0;34m\u001b[0m\u001b[0m\n\u001b[0;32m---> 32\u001b[0;31m     \u001b[0mS_P\u001b[0m\u001b[0;34m[\u001b[0m\u001b[0;34m:\u001b[0m\u001b[0;34m,\u001b[0m\u001b[0mj\u001b[0m\u001b[0;34m]\u001b[0m \u001b[0;34m=\u001b[0m \u001b[0mv\u001b[0m\u001b[0;34m[\u001b[0m\u001b[0;34m:\u001b[0m\u001b[0;34m,\u001b[0m\u001b[0mj\u001b[0m\u001b[0;34m]\u001b[0m\u001b[0;34m\u001b[0m\u001b[0m\n\u001b[0m\u001b[1;32m     33\u001b[0m \u001b[0mS_b\u001b[0m \u001b[0;34m=\u001b[0m \u001b[0mnp\u001b[0m\u001b[0;34m.\u001b[0m\u001b[0mempty\u001b[0m\u001b[0;34m(\u001b[0m\u001b[0;34m(\u001b[0m\u001b[0mneed_la_num\u001b[0m\u001b[0;34m)\u001b[0m\u001b[0;34m)\u001b[0m\u001b[0;34m\u001b[0m\u001b[0m\n\u001b[1;32m     34\u001b[0m \u001b[0mprint\u001b[0m\u001b[0;34m(\u001b[0m\u001b[0;34m\"形状固有ベクトル行列\"\u001b[0m\u001b[0;34m,\u001b[0m\u001b[0mS_P\u001b[0m\u001b[0;34m)\u001b[0m\u001b[0;34m\u001b[0m\u001b[0m\n",
      "\u001b[0;31mValueError\u001b[0m: could not broadcast input array from shape (24) into shape (40)"
     ]
    }
   ],
   "source": [
    "shape_sample_num  = shape.shape[1]\n",
    "\n",
    "# S = np.zeros((2*N,2*N))\n",
    "# for i in range(0,2*N):\n",
    "#     for j in range(0,2*N):\n",
    "#         for n in range(0,shape_sample_num):\n",
    "#             S[i,j] += (shape[i][n]-shape_ave[i])*(shape[j][n]-shape_ave[j])\n",
    "# S /= shape_sample_num-1\n",
    "\n",
    "pca = PCA()\n",
    "shape = np.transpose(unchanged_shape)\n",
    "pca.fit(shape)\n",
    "S_mat = pca.get_covariance()\n",
    "print(\"S_mat covariance\")\n",
    "la,v = scipy.linalg.eigh(S_mat)\n",
    "print(\"laとv\")\n",
    "la = la[::-1]\n",
    "v = v[::-1]\n",
    "\n",
    "la_sum = np.sum(la)\n",
    "need_la = 0 #必要固有値の和\n",
    "need_la_num = 1 #必要固有値数-1\n",
    "for val in la:\n",
    "    need_la += val\n",
    "    if(la_sum*0.98 < need_la):\n",
    "        break\n",
    "    else:\n",
    "        need_la_num +=1\n",
    "print(shape_ave.shape)     \n",
    "S_P = np.empty((shape_ave.shape[0],need_la_num))\n",
    "for j in range(0,need_la_num):\n",
    "    S_P[:,j] = v[:,j]\n",
    "S_b = np.empty((need_la_num))\n",
    "print(\"形状固有ベクトル行列\",S_P)\n",
    "print(\"形状固有値\",S_b)\n",
    "\n",
    "\n",
    "#輝度値共分散行列\n",
    "appearance_list = list()\n",
    "for i in range(len(gray_rot_arr)):\n",
    "    appearance_list.append(np.ravel(gray_rot_arr[i]))#外観行列をベクトル化\n",
    "appearance = np.array(appearance_list)\n",
    "pca.fit(appearance)\n",
    "A_mat = pca.get_covariance()\n",
    "print(\"A_mat covariance\")\n",
    "la,v = scipy.linalg.eigh(A_mat)\n",
    "print(\"laとv\")\n",
    "la = la[::-1]\n",
    "v = v[::-1]\n",
    "la_sum = np.sum(la)\n",
    "need_la = 0 #必要固有値の和\n",
    "need_la_num = 1 #必要固有値数-1\n",
    "for val in la:\n",
    "    need_la += val\n",
    "    if(la_sum*0.98 < need_la):\n",
    "        break\n",
    "    else:\n",
    "        need_la_num +=1\n",
    "\n",
    "A_P = np.empty((N**2,need_la_num))\n",
    "for j in range(0,need_la_num):\n",
    "    A_P[:,j] = v[:,j]\n",
    "A_b = np.empty((need_la_num))\n",
    "print(\"外観固有ベクトル行列\",A_P)\n",
    "print(\"外観固有値\",A_b)\n",
    "\n",
    "\n",
    "# appearance_ave_vec = np.ravel(appearance_ave)\n",
    "\n",
    "#######ここまでPCA#####\n",
    "# def aCalc(i,j): #外観の共分散行列を求める\n",
    "#     A_cell = 0 \n",
    "#     for n in range(0,shape_sample_num):\n",
    "#         A_cell += (appearance_list[n][i]-appearance_ave_vec[i])*(appearance_list[n][j]-appearance_ave_vec[j])\n",
    "#     A_cell /= shape_sample_num-1\n",
    "#     print(i,j)\n",
    "#     return A_cell\n",
    "\n",
    "# def aCalcWrapper(args):\n",
    "#     return aCalc(*args)\n",
    "\n",
    "# def process(i,j):\n",
    "#     return i*j\n",
    "\n",
    "# pic_size = 30\n",
    "# result = Parallel(n_jobs=-1,verbose=0)([delayed(aCalc)(i,j) for i in range(0,pic_size**2) for j in range(0,pic_size**2)])\n",
    "# result = np.array(result)\n",
    "# result = result.reshape(pic_size**2,pic_size**2)\n",
    "# print(result)\n",
    "# p = Pool(multi.cpu_count())\n",
    "# index_list = [ [i,j] for  i in range(0,200*200) for j in range(0,200*200)] \n",
    "# A_cell_list = p.map(aCalc,index_list)\n",
    "# p.close()\n",
    "# A_cell_array = np.array(A_cell_list)\n",
    "# A_mat = A_cell_array.reshape(200,200)\n",
    "# print(A_mat)\n",
    "\n",
    "# A_mat = np.zeros((200*200,200*200))\n",
    "# for i in range(0,200**2):\n",
    "#     print(i)\n",
    "#     for j in range(0,200**2):\n",
    "#         for n in range(0,shape_sample_num):\n",
    "#             A_mat[i,j] += (appearance_list[n][i]-appearance_ave_vec[i])*(appearance_list[n][j]-appearance_ave_vec[j])\n",
    "# A_mat /= shape_sample_num-1\n",
    "\n",
    "\n",
    "# ma = np.max(S)\n",
    "# S /= ma\n",
    "# S *= 255\n",
    "# cv2.imwrite('./Img/s.jpg' ,S)\n",
    "# ma = np.max(A_mat)\n",
    "# A_mat /= ma\n",
    "# A_mat *= 255\n",
    "# cv2.imwrite('./Img/a_mat.jpg' ,A_mat)"
   ]
  },
  {
   "cell_type": "code",
   "execution_count": null,
   "metadata": {},
   "outputs": [],
   "source": [
    "形状固有ベクトル行列 [[-0.16668358]\n",
    " [-0.34237708]\n",
    " [-0.01351488]\n",
    " [-0.36490189]\n",
    " [ 0.14415877]\n",
    " [-0.28381258]\n",
    " [ 0.22524808]\n",
    " [-0.12163396]\n",
    " [ 0.21173319]\n",
    " [ 0.01351488]\n",
    " [ 0.16668358]\n",
    " [ 0.11262404]\n",
    " [ 0.12613892]\n",
    " [ 0.26128777]\n",
    " [-0.00450496]\n",
    " [ 0.28831754]\n",
    " [-0.16217862]\n",
    " [ 0.20272327]\n",
    " [-0.22524808]\n",
    " [ 0.07658435]\n",
    " [-0.26128777]\n",
    " [-0.06306946]\n",
    " [-0.23876296]\n",
    " [-0.22074312]]"
   ]
  },
  {
   "cell_type": "code",
   "execution_count": null,
   "metadata": {},
   "outputs": [],
   "source": [
    "形状固有値 [ 24637.]"
   ]
  },
  {
   "cell_type": "code",
   "execution_count": null,
   "metadata": {},
   "outputs": [],
   "source": []
  },
  {
   "cell_type": "code",
   "execution_count": null,
   "metadata": {},
   "outputs": [],
   "source": []
  },
  {
   "cell_type": "code",
   "execution_count": 30,
   "metadata": {},
   "outputs": [
    {
     "ename": "NameError",
     "evalue": "name 'b' is not defined",
     "output_type": "error",
     "traceback": [
      "\u001b[0;31m--------------------------------------------------------------------------\u001b[0m",
      "\u001b[0;31mNameError\u001b[0m                                Traceback (most recent call last)",
      "\u001b[0;32m<ipython-input-30-7b4d93108bf4>\u001b[0m in \u001b[0;36m<module>\u001b[0;34m()\u001b[0m\n\u001b[1;32m      1\u001b[0m \u001b[0mparam\u001b[0m\u001b[0;34m=\u001b[0m\u001b[0;36m2\u001b[0m\u001b[0;31m#(±3までらしいが、、、)\u001b[0m\u001b[0;34m\u001b[0m\u001b[0m\n\u001b[0;32m----> 2\u001b[0;31m \u001b[0;32mfor\u001b[0m \u001b[0mi\u001b[0m \u001b[0;32min\u001b[0m \u001b[0mrange\u001b[0m\u001b[0;34m(\u001b[0m\u001b[0;36m0\u001b[0m\u001b[0;34m,\u001b[0m\u001b[0mlen\u001b[0m\u001b[0;34m(\u001b[0m\u001b[0mb\u001b[0m\u001b[0;34m)\u001b[0m\u001b[0;34m)\u001b[0m\u001b[0;34m:\u001b[0m\u001b[0;34m\u001b[0m\u001b[0m\n\u001b[0m\u001b[1;32m      3\u001b[0m     \u001b[0mb\u001b[0m\u001b[0;34m[\u001b[0m\u001b[0mi\u001b[0m\u001b[0;34m]\u001b[0m \u001b[0;34m=\u001b[0m \u001b[0mla\u001b[0m\u001b[0;34m[\u001b[0m\u001b[0mi\u001b[0m\u001b[0;34m]\u001b[0m\u001b[0;34m**\u001b[0m\u001b[0;34m(\u001b[0m\u001b[0;36m1\u001b[0m\u001b[0;34m/\u001b[0m\u001b[0;36m2\u001b[0m\u001b[0;34m)\u001b[0m\u001b[0;34m*\u001b[0m\u001b[0mparam\u001b[0m\u001b[0;34m\u001b[0m\u001b[0m\n\u001b[1;32m      4\u001b[0m \u001b[0;31m# print(P.shape,b.shape,result.shape)\u001b[0m\u001b[0;34m\u001b[0m\u001b[0;34m\u001b[0m\u001b[0m\n\u001b[1;32m      5\u001b[0m \u001b[0;31m# print(P)\u001b[0m\u001b[0;34m\u001b[0m\u001b[0;34m\u001b[0m\u001b[0m\n",
      "\u001b[0;31mNameError\u001b[0m: name 'b' is not defined"
     ]
    }
   ],
   "source": [
    "param=2#(±3までらしいが、、、)\n",
    "for i in range(0,len(b)):\n",
    "    b[i] = la[i]**(1/2)*param\n",
    "# print(P.shape,b.shape,result.shape)\n",
    "# print(P)\n",
    "# print(b)\n",
    "result = shape_ave+np.dot(P,b)\n",
    "\n",
    "# print(result)\n",
    "# 輪郭線のテスト\n",
    "black_result = np.zeros((img_size,img_size))\n",
    "N = int(len(shape[:,0])/2)\n",
    "for i in range(0,int(N)):\n",
    "    x = int(result[2*i])\n",
    "    y = int(result[2*i+1])\n",
    "    x2 = int(result[(2*(i+1))%(2*N)])\n",
    "    y2 = int(result[(2*(i+1)+1)%(2*N)])\n",
    "    print(x,y,x2,y2)\n",
    "    black_result = cv2.line(black_result, (y,x), (y2,x2), (255, 255, 255), 2)\n",
    "cv2.imwrite('./Img/black_result.jpg' ,black_result)"
   ]
  },
  {
   "cell_type": "code",
   "execution_count": null,
   "metadata": {},
   "outputs": [],
   "source": []
  },
  {
   "cell_type": "code",
   "execution_count": 26,
   "metadata": {},
   "outputs": [
    {
     "name": "stdout",
     "output_type": "stream",
     "text": [
      "移動前:\n",
      " [[ 1.  3.]\n",
      " [ 1.  3.]\n",
      " [ 1.  4.]\n",
      " [ 2.  4.]]\n",
      "(3.5, 3.5)\n",
      "移動後:\n",
      " [[ 0.  -0.5]\n",
      " [-0.5 -0.5]\n",
      " [ 0.   0.5]\n",
      " [ 0.5  0.5]]\n",
      "s: 1.41421356237 θ: -0.785398163397\n"
     ]
    },
    {
     "ename": "NameError",
     "evalue": "name 'center' is not defined",
     "output_type": "error",
     "traceback": [
      "\u001b[0;31m---------------------------------------------------------------------------\u001b[0m",
      "\u001b[0;31mNameError\u001b[0m                                 Traceback (most recent call last)",
      "\u001b[0;32m<ipython-input-26-13c5eace623c>\u001b[0m in \u001b[0;36m<module>\u001b[0;34m()\u001b[0m\n\u001b[1;32m     33\u001b[0m \u001b[0mtheta_\u001b[0m \u001b[0;34m=\u001b[0m \u001b[0mnp\u001b[0m\u001b[0;34m.\u001b[0m\u001b[0marctan2\u001b[0m\u001b[0;34m(\u001b[0m\u001b[0mb_\u001b[0m\u001b[0;34m,\u001b[0m\u001b[0ma_\u001b[0m\u001b[0;34m)\u001b[0m\u001b[0;34m\u001b[0m\u001b[0m\n\u001b[1;32m     34\u001b[0m \u001b[0mprint\u001b[0m\u001b[0;34m(\u001b[0m\u001b[0;34m\"s:\"\u001b[0m\u001b[0;34m,\u001b[0m\u001b[0ms_\u001b[0m\u001b[0;34m,\u001b[0m\u001b[0;34m\"θ:\"\u001b[0m\u001b[0;34m,\u001b[0m\u001b[0mtheta_\u001b[0m\u001b[0;34m)\u001b[0m\u001b[0;34m\u001b[0m\u001b[0m\n\u001b[0;32m---> 35\u001b[0;31m \u001b[0mrotation_matrix\u001b[0m \u001b[0;34m=\u001b[0m \u001b[0mcv2\u001b[0m\u001b[0;34m.\u001b[0m\u001b[0mgetRotationMatrix2D\u001b[0m\u001b[0;34m(\u001b[0m\u001b[0mcenter\u001b[0m\u001b[0;34m,\u001b[0m \u001b[0mangle\u001b[0m\u001b[0;34m,\u001b[0m \u001b[0mscale\u001b[0m\u001b[0;34m)\u001b[0m\u001b[0;34m\u001b[0m\u001b[0m\n\u001b[0m",
      "\u001b[0;31mNameError\u001b[0m: name 'center' is not defined"
     ]
    }
   ],
   "source": [
    "#test\n",
    "hoge= np.zeros((4,2))\n",
    "fuga_  = np.zeros((4,2))\n",
    "fuga_[:,0] =  [1,1,1,2]\n",
    "fuga_[:,1] = [3,3,4,4]\n",
    "hoge[:,0] = copy.deepcopy(fuga_[:,0])\n",
    "hoge[:,1] = copy.deepcopy(fuga_[:,1])\n",
    "print(\"移動前:\\n\",hoge)\n",
    "#重心とる\n",
    "N = int(len(hoge[:,0])/2)\n",
    "g1_ = np.array([0,0])\n",
    "g1_ = np.sum(hoge[::2,0])/N,np.sum(hoge[1::2,0])/N\n",
    "g2_ = np.array([0,0])\n",
    "g2_ = np.sum(hoge[::2,1])/N,np.sum(hoge[1::2,1])/N\n",
    "hoge[::2,0] -= g1_[0]\n",
    "hoge[1::2,0] -= g1_[1]\n",
    "hoge[::2,1] -= g2_[0]\n",
    "hoge[1::2,1] -= g2_[1]\n",
    "print(g2_)\n",
    "print(\"移動後:\\n\",hoge)\n",
    "#パラメータ計算\n",
    "a_ = np.dot(hoge[:,0],hoge[:,1])/np.dot(hoge[:,0],hoge[:,0])\n",
    "b_ =0\n",
    "loop = int(hoge[:,0].shape[0]/2)\n",
    "for i in range(0,loop):\n",
    "    x1_ = hoge[2*i,0]\n",
    "    y1_ = hoge[2*i+1,0]\n",
    "    x2_ = hoge[2*i,1]\n",
    "    y2_ = hoge[2*i+1,1]\n",
    "    b_ += (x1_*y2_-x2_*y1_ )\n",
    "b_ /= np.dot(hoge[:,0],hoge[:,0])\n",
    "s_ = (a_**2+b_**2)**(1/2)\n",
    "theta_ = np.arctan2(b_,a_)\n",
    "print(\"s:\",s_,\"θ:\",theta_)\n"
   ]
  },
  {
   "cell_type": "code",
   "execution_count": 385,
   "metadata": {},
   "outputs": [],
   "source": [
    "sA_ =  np.zeros((2,2))\n",
    "sA_[:,0] = [s_*np.cos(theta_),-s_*np.sin(theta_)]\n",
    "sA_[:,1] = [s_*np.sin(theta_), s_*np.cos(theta_)]\n",
    "\n",
    "ans_ = [0,0,0,0]\n",
    "for i in range(0,loop):\n",
    "    aho = [hoge[2*i,0],hoge[2*i+1,0]]\n",
    "    ans_[2*i],ans_[2*i+1] = np.dot(aho,sA_) +g2_\n",
    "\n",
    "\n"
   ]
  },
  {
   "cell_type": "code",
   "execution_count": 386,
   "metadata": {},
   "outputs": [
    {
     "data": {
      "text/plain": [
       "([3.0, 3.0, 4.0, 4.0], array([ 3.,  3.,  4.,  4.]))"
      ]
     },
     "execution_count": 386,
     "metadata": {},
     "output_type": "execute_result"
    }
   ],
   "source": [
    "ans_,fuga_[:,1]"
   ]
  },
  {
   "cell_type": "code",
   "execution_count": null,
   "metadata": {},
   "outputs": [],
   "source": []
  },
  {
   "cell_type": "code",
   "execution_count": 21,
   "metadata": {},
   "outputs": [
    {
     "data": {
      "text/plain": [
       "[0, 1]"
      ]
     },
     "execution_count": 21,
     "metadata": {},
     "output_type": "execute_result"
    }
   ],
   "source": [
    "list(range(2))"
   ]
  },
  {
   "cell_type": "code",
   "execution_count": 19,
   "metadata": {},
   "outputs": [
    {
     "data": {
      "text/plain": [
       "[1, 2]"
      ]
     },
     "execution_count": 19,
     "metadata": {},
     "output_type": "execute_result"
    }
   ],
   "source": [
    "list([1,2])"
   ]
  },
  {
   "cell_type": "code",
   "execution_count": 27,
   "metadata": {},
   "outputs": [],
   "source": [
    "aho = [ [i,j] for  i in range(0,200) for j in range(0,200)] "
   ]
  },
  {
   "cell_type": "code",
   "execution_count": 34,
   "metadata": {},
   "outputs": [
    {
     "name": "stdout",
     "output_type": "stream",
     "text": [
      "<class 'list'>\n",
      "[[  0   0]\n",
      " [  0   1]\n",
      " [  0   2]\n",
      " ..., \n",
      " [199 197]\n",
      " [199 198]\n",
      " [199 199]]\n"
     ]
    }
   ],
   "source": [
    "print(type(aho))\n",
    "print(np.array(aho))"
   ]
  },
  {
   "cell_type": "code",
   "execution_count": 21,
   "metadata": {},
   "outputs": [
    {
     "name": "stdout",
     "output_type": "stream",
     "text": [
      "__abstractmethods__\n",
      "__class__\n",
      "__delattr__\n",
      "__dict__\n",
      "__dir__\n",
      "__doc__\n",
      "__eq__\n",
      "__format__\n",
      "__ge__\n",
      "__getattribute__\n",
      "__getstate__\n",
      "__gt__\n",
      "__hash__\n",
      "__init__\n",
      "__init_subclass__\n",
      "__le__\n",
      "__lt__\n",
      "__module__\n",
      "__ne__\n",
      "__new__\n",
      "__reduce__\n",
      "__reduce_ex__\n",
      "__repr__\n",
      "__setattr__\n",
      "__setstate__\n",
      "__sizeof__\n",
      "__str__\n",
      "__subclasshook__\n",
      "__weakref__\n",
      "_abc_cache\n",
      "_abc_negative_cache\n",
      "_abc_negative_cache_version\n",
      "_abc_registry\n",
      "_fit\n",
      "_fit_full\n",
      "_fit_truncated\n",
      "_get_param_names\n",
      "components_\n",
      "copy\n",
      "explained_variance_\n",
      "explained_variance_ratio_\n",
      "fit\n",
      "fit_transform\n",
      "get_covariance\n",
      "get_params\n",
      "get_precision\n",
      "inverse_transform\n",
      "iterated_power\n",
      "mean_\n",
      "n_components\n",
      "n_components_\n",
      "n_features_\n",
      "n_samples_\n",
      "noise_variance_\n",
      "random_state\n",
      "score\n",
      "score_samples\n",
      "set_params\n",
      "singular_values_\n",
      "svd_solver\n",
      "tol\n",
      "transform\n",
      "whiten\n"
     ]
    }
   ],
   "source": [
    "for x in dir(pca):\n",
    "  print(x)"
   ]
  },
  {
   "cell_type": "code",
   "execution_count": null,
   "metadata": {},
   "outputs": [],
   "source": []
  }
 ],
 "metadata": {
  "kernelspec": {
   "display_name": "Python 3",
   "language": "python",
   "name": "python3"
  },
  "language_info": {
   "codemirror_mode": {
    "name": "ipython",
    "version": 3
   },
   "file_extension": ".py",
   "mimetype": "text/x-python",
   "name": "python",
   "nbconvert_exporter": "python",
   "pygments_lexer": "ipython3",
   "version": "3.6.1"
  }
 },
 "nbformat": 4,
 "nbformat_minor": 2
}
